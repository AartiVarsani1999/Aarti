{
 "cells": [
  {
   "metadata": {},
   "cell_type": "code",
   "source": [
    "#Function to calculate Future Value (FV):\n",
    "def calculate_FV(principle, annual_rate, years, compounds_per_year, cash_flow=0):\n",
    "    rate_per_period = annual_rate / 100 / compounds_per_year\n",
    "    total_period = years * compounds_per_year\n",
    "    FV = principle * (1 + rate_per_period) ** total_period + (cash_flow * (((1 + rate_per_period) ** total_period - 1) / rate_per_period))\n",
    "    return FV\n",
    "\n",
    "#Function to calculate Present Value (PV):\n",
    "def calculate_PV(FV, annual_rate, years, compounds_per_year):\n",
    "    rate_per_period = annual_rate / 100 / compounds_per_year\n",
    "    total_period = years * compounds_per_year\n",
    "    PV = FV / (1 + rate_per_period) ** total_period\n",
    "    return PV\n",
    "\n",
    "initial_investment = float(input(\"Enter initial investment: £ \")) # Principle amount\n",
    "annual_interest_rate = float(input(\"Enter annual interest rate: %\"))\n",
    "investment_years = int(input(\"Enter number of years to invest: \"))\n",
    "compounds_per_year = int(input(\"Enter compounds per year: \"))"\n",
    "periodic_cashflow = float(input("Enter periodic cashflow amount (0 if none): £ \"))
   ],
   "id": "c97f3a535c3873d7",
   "outputs": [],
   "execution_count": null
  },
  {
   "metadata": {},
   "cell_type": "code",
   "source": [
    "FV = calculate_FV(initial_investment, annual_interest_rate, investment_years, compounds_per_year, periodic_cashflow)\n",
    "PV = calculate_PV(FV, annual_interest_rate, investment_years, compounds_per_year)"
   ],
   "id": "6b0d6619ca176317",
   "outputs": [],
   "execution_count": null
  },
  {
   "metadata": {},
   "cell_type": "code",
   "source": [
    "print(f\"Future value of the investment: ${FV:.2f}\")\n",
    "print(f\"Present value of the investment: ${PV:.2f}\")\n",
    "\n",
    "if  FV > PV:\n",
    "    print(\"Future value is greater than Present Value, you should invest\")\n",
    "elif FV == PV:\n",
    "    print(\"Present value is equal to Future Value, you should invest\")\n",
    "else:\n",
    "    print(\"Future value is less than Present Value, you should not invest\")\n"
   ],
   "id": "e333fd4faf8588ea",
   "outputs": [],
   "execution_count": null
  }
 ],
 "metadata": {
  "kernelspec": {
   "display_name": "Python 3",
   "language": "python",
   "name": "python3"
  },
  "language_info": {
   "codemirror_mode": {
    "name": "ipython",
    "version": 2
   },
   "file_extension": ".py",
   "mimetype": "text/x-python",
   "name": "python",
   "nbconvert_exporter": "python",
   "pygments_lexer": "ipython2",
   "version": "2.7.6"
  }
 },
 "nbformat": 4,
 "nbformat_minor": 5
}
